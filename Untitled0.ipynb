{
  "nbformat": 4,
  "nbformat_minor": 0,
  "metadata": {
    "colab": {
      "provenance": []
    },
    "kernelspec": {
      "name": "python3",
      "display_name": "Python 3"
    },
    "language_info": {
      "name": "python"
    }
  },
  "cells": [
    {
      "cell_type": "markdown",
      "source": [
        "1.  What is Object-Oriented Programming (OOP).\n",
        "\n",
        " - Object-Oriented Programming (OOP) is a programming paradigm that organizes software design around objects rather than functions or logic.\n",
        "\n",
        "2. What is a class in OOP\n",
        "\n",
        "  -In Object-Oriented Programming (OOP), a class is a blueprint for creating objects.\n",
        "\n",
        "3.  What is an object in OOP\n",
        "\n",
        " -In Object-Oriented Programming (OOP), an object is an instance of a class.\n",
        "\n",
        "4.  What is the difference between abstraction and encapsulation\n",
        "\n",
        " - Abstraction and encapsulation are both fundamental principles in Object-Oriented Programming (OOP), but they serve different purposes.\n",
        "\n",
        "5.  What are dunder methods in Python\n",
        "\n",
        " - Dunder methods (short for \"double underscore methods\"), also known as magic methods, are special methods in Python that start and end with double underscores (__).\n",
        "\n",
        "6.  Explain the concept of inheritance in OOP\n",
        "\n",
        "- Inheritance in Object-Oriented Programming (OOP) allows a class to acquire the attributes and methods of another class.\n",
        "\n",
        "7.  What is polymorphism in OOP\n",
        "\n",
        "- Polymorphism in Object-Oriented Programming (OOP) is the ability of different classes to be treated as instances of the same class through shared methods.\n",
        "\n",
        "8.  How is encapsulation achieved in Python\n",
        "\n",
        "- Encapsulation in Python is achieved by restricting direct access to an object's data and methods, ensuring controlled interaction and maintaining data integrity.\n",
        "\n",
        "9.  What is a constructor in Python\n",
        "\n",
        "- In Python, a constructor is a special method used to initialize an object's attributes when an instance of a class is created.\n",
        "\n",
        "10.  What are class and static methods in Python.\n",
        "\n",
        "- In Python, class methods and static methods are special types of methods that help in organizing code efficiently within a class.\n",
        "\n",
        "Class Methods (@classmethod)\n",
        "\n",
        " A class method operates on the class rather than an instance.\n",
        "\n",
        " It takes cls (class reference) as its first argument.\n",
        "\n",
        " Defined using the @classmethod decorator.\n",
        "\n",
        " Useful for modifying class-level attributes or creating instances in alternative ways.\n",
        "\n",
        "Static Methods (@staticmethod)\n",
        "\n",
        " A static method does not require access to instance (self) or class (cls).\n",
        "\n",
        " It behaves like a regular function within a class, useful for utility operations.\n",
        "\n",
        " Defined using the @staticmethod decorator.\n",
        "\n",
        "11. What is method overloading in Python.\n",
        "\n",
        " - Method overloading allows multiple versions of a method to be defined within the same class, each handling different numbers or types of parameters.\n",
        "\n",
        "12.  What is method overriding in OOP.\n",
        "\n",
        "- Method overriding in Object-Oriented Programming (OOP) allows a subclass to provide a specific implementation of a method that already exists in its parent class.\n",
        "\n",
        "13.  What is a property decorator in Python.\n",
        "\n",
        "- A property decorator in Python (@property) is used to define getter methods, allowing controlled access to private attributes while maintaining the simplicity of attribute access.\n",
        "\n",
        "14.  Why is polymorphism important in OOP.\n",
        "\n",
        " - Polymorphism is critical in Object-Oriented Programming (OOP) because it enhances code flexibility, reusability, and maintainability by allowing different classes to be treated as instances of a common superclass.\n",
        "\n",
        "15.  What is an abstract class in Python.\n",
        "\n",
        " - An abstract class in Python is a class that cannot be instantiated and serves as a blueprint for other classes.\n",
        "\n",
        "16.  What are the advantages of OOP.\n",
        "\n",
        " - Object-Oriented Programming (OOP) provides several benefits that make software development more scalable, efficient, and maintainable.\n",
        "\n",
        "17.  What is the difference between a class variable and an instance variable.\n",
        "\n",
        " - In Python, class variables and instance variables are both attributes of a class, but they behave differently in terms of scope and access.\n",
        "\n",
        "1. Class Variables\n",
        "\n",
        " Defined inside a class but outside any method.\n",
        "\n",
        " Shared by all instances of the class.\n",
        "\n",
        " Modified at the class level.\n",
        "\n",
        " Typically used for attributes that should be common across all objects.\n",
        "\n",
        " 2. Instance Variables\n",
        "  \n",
        " Defined inside the __init__() method.\n",
        "\n",
        " Specific to each instance.\n",
        "\n",
        " Modified at the instance level.\n",
        "\n",
        " Typically used for attributes that should be unique per object.\n",
        "\n",
        "18. What is multiple inheritance in Python.\n",
        "\n",
        " - Multiple inheritance in Python allows a class to inherit from more than one parent class, enabling it to acquire attributes and methods from multiple sources.\n",
        "\n",
        "19.  Explain the purpose of ‘’__str__’ and ‘__repr__’ ‘ methods in Python.\n",
        "\n",
        " - In Python, the __str__ and __repr__ methods are dunder (double underscore) methods that control how objects are represented as strings. They are used to provide meaningful string representations of objects when printed or inspected.\n",
        "\n",
        " 1. __str__ (User-Friendly Representation)\n",
        "\n",
        " Called when str(object) or print(object) is used.\n",
        "\n",
        " Returns a human-readable string representation.\n",
        "\n",
        " Meant for end users.\n",
        "\n",
        " 2. __repr__ (Developer-Friendly Representation)\n",
        "\n",
        " Called when repr(object) or when inspecting the object in an interactive shell.\n",
        "\n",
        " Returns a formal, unambiguous string representation.\n",
        "\n",
        " Ideally, should return a valid Python expression to recreate the object.\n",
        "\n",
        " Used for debugging and logging.\n",
        "\n",
        "20.  What is the significance of the ‘super()’ function in Python.\n",
        "\n",
        " - The super() function in Python is used to call methods from a parent class within a child class. It helps in method resolution, avoiding redundant code, and maintaining proper inheritance structure.\n",
        "\n",
        " Key Benefits of super()\n",
        "\n",
        " Access Parent Methods – Enables a subclass to call methods from the superclass.\n",
        "\n",
        " Avoid Code Duplication – Prevents rewriting parent class methods in child classes.\n",
        "\n",
        " Supports Multiple Inheritance – Works with Method Resolution Order (MRO) to determine which class’s method is invoked.\n",
        "\n",
        " Improves Maintainability – Ensures clean and efficient code structure.\n",
        "\n",
        "21.  What is the significance of the __del__ method in Python.\n",
        "\n",
        " - The __del__ method in Python is a destructor, called automatically when an object is deleted or goes out of scope. Its primary purpose is to release resources like file handles, database connections, or memory when an object is no longer needed.\n",
        "\n",
        "22.  What is the difference between @staticmethod and @classmethod in Python.\n",
        "\n",
        " - In Python, @staticmethod and @classmethod are both used to define methods inside a class, but they serve different purposes in terms of how they interact with the class and its instances.\n",
        "\n",
        "1. @staticmethod\n",
        "\n",
        " A static method does not take self (instance) or cls (class reference) as its first parameter.\n",
        "\n",
        " It behaves like a regular function within a class but is included for logical grouping.\n",
        "\n",
        " Used when a method does not need access to instance or class attributes.\n",
        "\n",
        "2. @classmethod\n",
        "\n",
        " A class method takes cls as its first parameter, allowing it to access and modify class attributes.\n",
        "\n",
        " Typically used when a method needs to interact with the class-level data.\n",
        "\n",
        "23.  How does polymorphism work in Python with inheritance.\n",
        "\n",
        " - In Python, polymorphism works seamlessly with inheritance, allowing different child classes to define their own implementations of a shared method from a parent class. This helps in writing flexible and scalable code.\n",
        "\n",
        " Method Overriding: A child class provides its own implementation for a method inherited from a parent class.\n",
        "  \n",
        " Uniform Method Calls: Parent and child classes share the same method name, but the behavior differs based on the object type.\n",
        "\n",
        " Dynamic Dispatch: At runtime, Python determines which method to call based on the object’s actual type, not its reference type.\n",
        "\n",
        "24.  What is method chaining in Python OOP.\n",
        "\n",
        " - Method chaining in Python Object-Oriented Programming (OOP) is a technique where multiple methods are called in a single line, one after another, on the same object. It improves code readability and avoids intermediate variables.\n",
        "\n",
        "25.  What is the purpose of the __call__ method in Python?\n",
        "\n",
        " - The __call__ method in Python is a special dunder (double underscore) method that allows instances of a class to be called like functions. It makes objects callable, meaning you can use parentheses () directly on an instance to invoke specific behavior.\n",
        "\n",
        "\n",
        "Practical Questions\n",
        "\n",
        "1. Create a parent class Animal with a method speak() that prints a generic message. Create a child class Dog\n",
        "that overrides the speak() method to print \"Bark!\"\n",
        "\n",
        "\n",
        "\n",
        "\n"
      ],
      "metadata": {
        "id": "gKab4rpVgUQq"
      }
    },
    {
      "cell_type": "code",
      "execution_count": null,
      "metadata": {
        "id": "fjpj9orQf_os"
      },
      "outputs": [],
      "source": [
        "class Animal:\n",
        "    def speak(self):\n",
        "        print(\"This animal makes a sound.\")\n",
        "\n",
        "class Dog(Animal):  # Inheriting from Animal\n",
        "    def speak(self):  # Overriding the parent method\n",
        "        print(\"Bark!\")\n",
        "\n",
        "# Creating objects\n",
        "generic_animal = Animal()\n",
        "generic_animal.speak()  # Output: This animal makes a sound.\n",
        "\n",
        "dog = Dog()\n",
        "dog.speak()  # Output: Bark!\n"
      ]
    },
    {
      "cell_type": "markdown",
      "source": [
        " 2. Write a program to create an abstract class Shape with a method area(). Derive classes Circle and Rectangle\n",
        "from it and implement the area() method in both."
      ],
      "metadata": {
        "id": "6Ze9aUaPl1IO"
      }
    },
    {
      "cell_type": "code",
      "source": [
        "from abc import ABC, abstractmethod\n",
        "\n",
        "# Abstract class\n",
        "class Shape(ABC):\n",
        "    @abstractmethod\n",
        "    def area(self):\n",
        "        pass  # Must be implemented by subclasses\n",
        "\n",
        "# Circle subclass\n",
        "class Circle(Shape):\n",
        "    def __init__(self, radius):\n",
        "        self.radius = radius\n",
        "\n",
        "    def area(self):\n",
        "        return 3.14 * self.radius ** 2  # Formula: πr²\n",
        "\n",
        "# Rectangle subclass\n",
        "class Rectangle(Shape):\n",
        "    def __init__(self, length, width):\n",
        "        self.length = length\n",
        "        self.width = width\n",
        "\n",
        "    def area(self):\n",
        "        return self.length * self.width  # Formula: length × width\n",
        "\n",
        "# Creating objects\n",
        "circle = Circle(5)\n",
        "rectangle = Rectangle(4, 6)\n",
        "\n",
        "print(f\"Circle Area: {circle.area()}\")      # Output: Circle Area: 78.5\n",
        "print(f\"Rectangle Area: {rectangle.area()}\")  # Output: Rectangle Area: 24\n"
      ],
      "metadata": {
        "id": "PDc7DYgGl7-b"
      },
      "execution_count": null,
      "outputs": []
    },
    {
      "cell_type": "markdown",
      "source": [
        "3. Implement a multi-level inheritance scenario where a class Vehicle has an attribute type. Derive a class Car\n",
        "and further derive a class ElectricCar that adds a battery attribute."
      ],
      "metadata": {
        "id": "0kAZPtYll-4a"
      }
    },
    {
      "cell_type": "code",
      "source": [
        "# Base class\n",
        "class Vehicle:\n",
        "    def __init__(self, vehicle_type):\n",
        "        self.vehicle_type = vehicle_type\n",
        "\n",
        "    def display_type(self):\n",
        "        return f\"Vehicle Type: {self.vehicle_type}\"\n",
        "\n",
        "# Derived class from Vehicle\n",
        "class Car(Vehicle):\n",
        "    def __init__(self, brand, model):\n",
        "        super().__init__(\"Car\")  # Passing the type to Vehicle\n",
        "        self.brand = brand\n",
        "        self.model = model\n",
        "\n",
        "    def display_info(self):\n",
        "        return f\"{self.brand} {self.model} ({self.vehicle_type})\"\n",
        "\n",
        "# Further derived class from Car\n",
        "class ElectricCar(Car):\n",
        "    def __init__(self, brand, model, battery_capacity):\n",
        "        super().__init__(brand, model)  # Calling Car's constructor\n",
        "        self.battery_capacity = battery_capacity\n",
        "\n",
        "    def display_battery(self):\n",
        "        return f\"Battery Capacity: {self.battery_capacity} kWh\"\n",
        "\n",
        "# Creating an instance of ElectricCar\n",
        "tesla = ElectricCar(\"Tesla\", \"Model S\", 100)\n",
        "\n",
        "print(tesla.display_type())      # Output: Vehicle Type: Car\n",
        "print(tesla.display_info())      # Output: Tesla Model S (Car)\n",
        "print(tesla.display_battery())   # Output: Battery Capacity: 100 kWh\n"
      ],
      "metadata": {
        "id": "QmxbGDKHmG60"
      },
      "execution_count": null,
      "outputs": []
    },
    {
      "cell_type": "markdown",
      "source": [
        " 4. Demonstrate polymorphism by creating a base class Bird with a method fly(). Create two derived classes\n",
        "Sparrow and Penguin that override the fly() method."
      ],
      "metadata": {
        "id": "37djEkO-mH1w"
      }
    },
    {
      "cell_type": "code",
      "source": [
        "class Bird:\n",
        "    def fly(self):\n",
        "        return \"Some birds can fly.\"\n",
        "\n",
        "class Sparrow(Bird):  # Inheriting from Bird\n",
        "    def fly(self):  # Overriding parent method\n",
        "        return \"Sparrow flies swiftly!\"\n",
        "\n",
        "class Penguin(Bird):  # Inheriting from Bird\n",
        "    def fly(self):  # Overriding parent method\n",
        "        return \"Penguins cannot fly, but they swim amazingly!\"\n",
        "\n",
        "# Using polymorphism\n",
        "birds = [Sparrow(), Penguin()]\n",
        "for bird in birds:\n",
        "    print(bird.fly())\n"
      ],
      "metadata": {
        "id": "j-KhuPUAmLA2"
      },
      "execution_count": null,
      "outputs": []
    },
    {
      "cell_type": "markdown",
      "source": [
        "5. Write a program to demonstrate encapsulation by creating a class BankAccount with private attributes\n",
        "balance and methods to deposit, withdraw, and check balance"
      ],
      "metadata": {
        "id": "dit6PR2ymORl"
      }
    },
    {
      "cell_type": "code",
      "source": [
        "class BankAccount:\n",
        "    def __init__(self, initial_balance):\n",
        "        self.__balance = initial_balance  # Private attribute\n",
        "\n",
        "    def deposit(self, amount):\n",
        "        if amount > 0:\n",
        "            self.__balance += amount\n",
        "            print(f\"Deposited: {amount}\")\n",
        "        else:\n",
        "            print(\"Invalid deposit amount!\")\n",
        "\n",
        "    def withdraw(self, amount):\n",
        "        if 0 < amount <= self.__balance:\n",
        "            self.__balance -= amount\n",
        "            print(f\"Withdrawn: {amount}\")\n",
        "        else:\n",
        "            print(\"Insufficient balance or invalid amount!\")\n",
        "\n",
        "    def check_balance(self):\n",
        "        return f\"Current Balance: {self.__balance}\"\n",
        "\n",
        "# Creating an account\n",
        "account = BankAccount(1000)\n",
        "\n",
        "account.deposit(500)\n",
        "account.withdraw(200)\n",
        "print(account.check_balance())  # Output: Current Balance: 1300\n"
      ],
      "metadata": {
        "id": "x-QXJHMWmZfI"
      },
      "execution_count": null,
      "outputs": []
    },
    {
      "cell_type": "markdown",
      "source": [
        " 6. Demonstrate runtime polymorphism using a method play() in a base class Instrument. Derive classes Guitar\n",
        "and Piano that implement their own version of play()"
      ],
      "metadata": {
        "id": "InKEBR7QmaaJ"
      }
    },
    {
      "cell_type": "code",
      "source": [
        "class Instrument:\n",
        "    def play(self):\n",
        "        return \"Playing an instrument.\"\n",
        "\n",
        "class Guitar(Instrument):  # Inheriting from Instrument\n",
        "    def play(self):  # Overriding play method\n",
        "        return \"Strumming the guitar!\"\n",
        "\n",
        "class Piano(Instrument):  # Inheriting from Instrument\n",
        "    def play(self):  # Overriding play method\n",
        "        return \"Playing the piano keys!\"\n",
        "\n",
        "# Using polymorphism\n",
        "instruments = [Guitar(), Piano()]\n",
        "for instrument in instruments:\n",
        "    print(instrument.play())\n"
      ],
      "metadata": {
        "id": "4qpfgkaXmeeV"
      },
      "execution_count": null,
      "outputs": []
    },
    {
      "cell_type": "markdown",
      "source": [
        " 7. Create a class MathOperations with a class method add_numbers() to add two numbers and a static\n",
        "method subtract_numbers() to subtract two numbers"
      ],
      "metadata": {
        "id": "L2mpDNa8mfV6"
      }
    },
    {
      "cell_type": "code",
      "source": [
        "class MathOperations:\n",
        "    @classmethod\n",
        "    def add_numbers(cls, a, b):\n",
        "        return a + b  # Adds two numbers (Uses class method)\n",
        "\n",
        "    @staticmethod\n",
        "    def subtract_numbers(a, b):\n",
        "        return a - b  # Subtracts two numbers (Uses static method)\n",
        "\n",
        "# Using class and static methods\n",
        "print(MathOperations.add_numbers(10, 5))  # Output: 15\n",
        "print(MathOperations.subtract_numbers(10, 5))  # Output: 5\n"
      ],
      "metadata": {
        "id": "jTq2Znaimmdo"
      },
      "execution_count": null,
      "outputs": []
    },
    {
      "cell_type": "markdown",
      "source": [
        " 8. Implement a class Person with a class method to count the total number of persons created.\n"
      ],
      "metadata": {
        "id": "iYPVnkEXmnTL"
      }
    },
    {
      "cell_type": "code",
      "source": [
        "class Person:\n",
        "    count = 0  # Class variable to track person count\n",
        "\n",
        "    def __init__(self, name):\n",
        "        self.name = name\n",
        "        Person.count += 1  # Increment count when a new instance is created\n",
        "\n",
        "    @classmethod\n",
        "    def total_persons(cls):\n",
        "        return f\"Total Persons: {cls.count}\"\n",
        "\n",
        "# Creating instances\n",
        "p1 = Person(\"Alice\")\n",
        "p2 = Person(\"Bob\")\n",
        "p3 = Person(\"Charlie\")\n",
        "\n",
        "# Checking the total number of persons created\n",
        "print(Person.total_persons())  # Output: Total Persons: 3\n"
      ],
      "metadata": {
        "id": "MOCoUYnEmsM1"
      },
      "execution_count": null,
      "outputs": []
    },
    {
      "cell_type": "markdown",
      "source": [
        "9. Write a class Fraction with attributes numerator and denominator. Override the str method to display the\n",
        "fraction as \"numerator/denominator\""
      ],
      "metadata": {
        "id": "qksdnnEWmteY"
      }
    },
    {
      "cell_type": "code",
      "source": [
        "class Fraction:\n",
        "    def __init__(self, numerator, denominator):\n",
        "        if denominator == 0:\n",
        "            raise ValueError(\"Denominator cannot be zero!\")  # Ensuring valid fraction\n",
        "        self.numerator = numerator\n",
        "        self.denominator = denominator\n",
        "\n",
        "    def __str__(self):\n",
        "        return f\"{self.numerator}/{self.denominator}\"  # Custom string representation\n",
        "\n",
        "# Creating instances\n",
        "fraction1 = Fraction(3, 4)\n",
        "fraction2 = Fraction(5, 8)\n",
        "\n",
        "print(fraction1)  # Output: 3/4\n",
        "print(fraction2)  # Output: 5/8\n"
      ],
      "metadata": {
        "id": "unPwbCI8m3C8"
      },
      "execution_count": null,
      "outputs": []
    },
    {
      "cell_type": "markdown",
      "source": [
        " 10. Demonstrate operator overloading by creating a class Vector and overriding the add method to add two\n",
        "vectors."
      ],
      "metadata": {
        "id": "eXyo5EsKm4B6"
      }
    },
    {
      "cell_type": "code",
      "source": [
        "class Vector:\n",
        "    def __init__(self, x, y):\n",
        "        self.x = x\n",
        "        self.y = y\n",
        "\n",
        "    def __add__(self, other):\n",
        "        return Vector(self.x + other.x, self.y + other.y)  # Adding vector components\n",
        "\n",
        "    def __str__(self):\n",
        "        return f\"({self.x}, {self.y})\"  # String representation\n",
        "\n",
        "# Creating vector instances\n",
        "v1 = Vector(3, 4)\n",
        "v2 = Vector(1, 2)\n",
        "\n",
        "# Adding vectors using overloaded `+`\n",
        "result = v1 + v2\n",
        "\n",
        "print(result)  # Output: (4, 6)\n"
      ],
      "metadata": {
        "id": "k2sJW_WInLAT"
      },
      "execution_count": null,
      "outputs": []
    },
    {
      "cell_type": "markdown",
      "source": [
        "11. Create a class Person with attributes name and age. Add a method greet() that prints \"Hello, my name is {name} and I am {age} years old."
      ],
      "metadata": {
        "id": "_kspvns6nL5m"
      }
    },
    {
      "cell_type": "code",
      "source": [
        "class Person:\n",
        "    def __init__(self, name, age):\n",
        "        self.name = name\n",
        "        self.age = age\n",
        "\n",
        "    def greet(self):\n",
        "        print(f\"Hello, my name is {self.name} and I am {self.age} years old.\")\n",
        "\n",
        "# Creating an instance\n",
        "person1 = Person(\"Alice\", 25)\n",
        "person1.greet()  # Output: Hello, my name is Alice and I am 25 years old.\n"
      ],
      "metadata": {
        "id": "_zZf0zs-nPS0"
      },
      "execution_count": null,
      "outputs": []
    },
    {
      "cell_type": "markdown",
      "source": [
        " 12. Implement a class Student with attributes name and grades. Create a method average_grade() to compute\n",
        "the average of the grades.\n"
      ],
      "metadata": {
        "id": "eEc8lL--nQDH"
      }
    },
    {
      "cell_type": "code",
      "source": [
        "class Student:\n",
        "    def __init__(self, name, grades):\n",
        "        self.name = name\n",
        "        self.grades = grades  # A list of grades\n",
        "\n",
        "    def average_grade(self):\n",
        "        return sum(self.grades) / len(self.grades) if self.grades else 0  # Avoid division by zero\n",
        "\n",
        "# Creating an instance\n",
        "student1 = Student(\"Alice\", [90, 85, 88, 92])\n",
        "print(f\"{student1.name}'s average grade: {student1.average_grade():.2f}\")  # Output: Alice's average grade: 88.75\n"
      ],
      "metadata": {
        "id": "sS6HI9ZTna_u"
      },
      "execution_count": null,
      "outputs": []
    },
    {
      "cell_type": "markdown",
      "source": [
        "13. Create a class Rectangle with methods set_dimensions() to set the dimensions and area() to calculate the\n",
        "area"
      ],
      "metadata": {
        "id": "QrNDUae7nbzT"
      }
    },
    {
      "cell_type": "code",
      "source": [
        "class Rectangle:\n",
        "    def __init__(self):\n",
        "        self.length = 0\n",
        "        self.width = 0\n",
        "\n",
        "    def set_dimensions(self, length, width):\n",
        "        self.length = length\n",
        "        self.width = width\n",
        "\n",
        "    def area(self):\n",
        "        return self.length * self.width  # Formula: length × width\n",
        "\n",
        "# Creating a rectangle object\n",
        "rect = Rectangle()\n",
        "rect.set_dimensions(5, 10)\n",
        "print(f\"Rectangle Area: {rect.area()}\")  # Output: Rectangle Area: 50\n"
      ],
      "metadata": {
        "id": "DytlCdcpnifO"
      },
      "execution_count": null,
      "outputs": []
    },
    {
      "cell_type": "markdown",
      "source": [
        " 14. Create a class Employee with a method calculate_salary() that computes the salary based on hours worked\n",
        "and hourly rate. Create a derived class Manager that adds a bonus to the salary."
      ],
      "metadata": {
        "id": "usLpVSYmnjul"
      }
    },
    {
      "cell_type": "code",
      "source": [
        "class Employee:\n",
        "    def __init__(self, name, hours_worked, hourly_rate):\n",
        "        self.name = name\n",
        "        self.hours_worked = hours_worked\n",
        "        self.hourly_rate = hourly_rate\n",
        "\n",
        "    def calculate_salary(self):\n",
        "        return self.hours_worked * self.hourly_rate  # Basic salary calculation\n",
        "\n",
        "class Manager(Employee):\n",
        "    def __init__(self, name, hours_worked, hourly_rate, bonus):\n",
        "        super().__init__(name, hours_worked, hourly_rate)  # Calling parent constructor\n",
        "        self.bonus = bonus\n",
        "\n",
        "    def calculate_salary(self):  # Overriding calculate_salary\n",
        "        return super().calculate_salary() + self.bonus  # Adding bonus to salary\n",
        "\n",
        "# Creating an Employee object\n",
        "employee = Employee(\"John\", 40, 20)\n",
        "print(f\"{employee.name}'s Salary: ${employee.calculate_salary()}\")  # Output: John's Salary: $800\n",
        "\n",
        "# Creating a Manager object\n",
        "manager = Manager(\"Alice\", 40, 30, 500)\n",
        "print(f\"{manager.name}'s Salary: ${manager.calculate_salary()}\")  # Output: Alice's Salary: $1700\n"
      ],
      "metadata": {
        "id": "WQSjT3DZneAA"
      },
      "execution_count": null,
      "outputs": []
    },
    {
      "cell_type": "markdown",
      "source": [
        "15. Create a class Product with attributes name, price, and quantity. Implement a method total_price() that\n",
        "calculates the total price of the product."
      ],
      "metadata": {
        "id": "dZdUmgkAnqki"
      }
    },
    {
      "cell_type": "code",
      "source": [
        "class Product:\n",
        "    def __init__(self, name, price, quantity):\n",
        "        self.name = name\n",
        "        self.price = price\n",
        "        self.quantity = quantity\n",
        "\n",
        "    def total_price(self):\n",
        "        return self.price * self.quantity  # Calculates total price\n",
        "\n",
        "# Creating a product instance\n",
        "product1 = Product(\"Laptop\", 700, 2)\n",
        "print(f\"Total price of {product1.name}: ${product1.total_price()}\")  # Output: Total price of Laptop: $1400\n"
      ],
      "metadata": {
        "id": "OczOPRplnzw9"
      },
      "execution_count": null,
      "outputs": []
    },
    {
      "cell_type": "markdown",
      "source": [
        "16. Create a class Animal with an abstract method sound(). Create two derived classes Cow and Sheep that\n",
        "implement the sound() method"
      ],
      "metadata": {
        "id": "KkqFiup-n0ay"
      }
    },
    {
      "cell_type": "code",
      "source": [
        "from abc import ABC, abstractmethod\n",
        "\n",
        "# Abstract class\n",
        "class Animal(ABC):\n",
        "    @abstractmethod\n",
        "    def sound(self):\n",
        "        pass  # Must be implemented by subclasses\n",
        "\n",
        "# Cow subclass\n",
        "class Cow(Animal):\n",
        "    def sound(self):\n",
        "        return \"Moo!\"\n",
        "\n",
        "# Sheep subclass\n",
        "class Sheep(Animal):\n",
        "    def sound(self):\n",
        "        return \"Baa!\"\n",
        "\n",
        "# Creating objects\n",
        "cow = Cow()\n",
        "sheep = Sheep()\n",
        "\n",
        "print(cow.sound())   # Output: Moo!\n",
        "print(sheep.sound()) # Output: Baa!\n"
      ],
      "metadata": {
        "id": "8Ewmsu4zn4D-"
      },
      "execution_count": null,
      "outputs": []
    },
    {
      "cell_type": "markdown",
      "source": [
        " 17. Create a class Book with attributes title, author, and year_published. Add a method get_book_info() that\n",
        "returns a formatted string with the book's details."
      ],
      "metadata": {
        "id": "aDL4aOURn67b"
      }
    },
    {
      "cell_type": "code",
      "source": [
        "class Book:\n",
        "    def __init__(self, title, author, year_published):\n",
        "        self.title = title\n",
        "        self.author = author\n",
        "        self.year_published = year_published\n",
        "\n",
        "    def get_book_info(self):\n",
        "        return f\"'{self.title}' by {self.author}, published in {self.year_published}.\"\n",
        "\n",
        "# Creating a book instance\n",
        "book1 = Book(\"1984\", \"George Orwell\", 1949)\n",
        "print(book1.get_book_info())  # Output: '1984' by George Orwell, published in 1949.\n"
      ],
      "metadata": {
        "id": "1tew9JHOoD3B"
      },
      "execution_count": null,
      "outputs": []
    },
    {
      "cell_type": "markdown",
      "source": [
        " 18. Create a class House with attributes address and price. Create a derived class Mansion that adds an\n",
        "attribute number_of_rooms.\n"
      ],
      "metadata": {
        "id": "eY0gD9GOoEsB"
      }
    },
    {
      "cell_type": "code",
      "source": [
        "class House:\n",
        "    def __init__(self, address, price):\n",
        "        self.address = address\n",
        "        self.price = price\n",
        "\n",
        "    def display_info(self):\n",
        "        return f\"Address: {self.address}, Price: ${self.price}\"\n",
        "\n",
        "# Derived class Mansion\n",
        "class Mansion(House):\n",
        "    def __init__(self, address, price, number_of_rooms):\n",
        "        super().__init__(address, price)  # Calling House's constructor\n",
        "        self.number_of_rooms = number_of_rooms\n",
        "\n",
        "    def display_info(self):\n",
        "        return super().display_info() + f\", Number of Rooms: {self.number_of_rooms}\"\n",
        "\n",
        "# Creating instances\n",
        "house = House(\"123 Main St\", 500000)\n",
        "mansion = Mansion(\"456 Luxury Ln\", 2000000, 10)\n",
        "\n",
        "print(house.display_info())  # Output: Address: 123 Main St, Price: $500000\n",
        "print(mansion.display_info())  # Output: Address: 456 Luxury Ln, Price: $2000000, Number of Rooms: 10\n"
      ],
      "metadata": {
        "id": "2mOJJO4hoKzv"
      },
      "execution_count": null,
      "outputs": []
    }
  ]
}